{
 "cells": [
  {
   "cell_type": "code",
   "execution_count": null,
   "id": "6485f0eb-12e3-4577-b87f-f02431c80d88",
   "metadata": {},
   "outputs": [],
   "source": [
    "# FA24-BBD-035\n",
    "# ISHAQ HAMEED"
   ]
  },
  {
   "cell_type": "code",
   "execution_count": 2,
   "id": "48fc9ba7-0964-44a3-b56f-472951eab375",
   "metadata": {},
   "outputs": [
    {
     "name": "stdout",
     "output_type": "stream",
     "text": [
      "Hello Ishaq, the current time is 2024-11-28 21:34:47.967684.\n"
     ]
    }
   ],
   "source": [
    "import datetime\n",
    "def greet_with_time(name):\n",
    "    current_time=datetime.datetime.now()\n",
    "    print(f\"Hello {name}, the current time is {current_time}.\")\n",
    "greet_with_time(\"Ishaq\")"
   ]
  },
  {
   "cell_type": "code",
   "execution_count": 4,
   "id": "287de5f4-9fa8-4a69-b425-ed521a57b7f7",
   "metadata": {},
   "outputs": [
    {
     "name": "stdout",
     "output_type": "stream",
     "text": [
      "35.666666666666664\n"
     ]
    }
   ],
   "source": [
    "def calculate_average(num1,num2,num3):\n",
    "    average=(num1+num2+num3)/3\n",
    "    return average\n",
    "result=calculate_average(34,35,38)\n",
    "print(result)\n"
   ]
  },
  {
   "cell_type": "code",
   "execution_count": 6,
   "id": "7ebeb229-c3d7-49bd-9bbb-4c3e3450a6ff",
   "metadata": {},
   "outputs": [
    {
     "name": "stdout",
     "output_type": "stream",
     "text": [
      "405.0\n"
     ]
    }
   ],
   "source": [
    "def calculate_discount(price, percentage):\n",
    "    discount=price-(price*percentage)\n",
    "    return discount\n",
    "price=calculate_discount(450,10/100)\n",
    "print(price)"
   ]
  },
  {
   "cell_type": "code",
   "execution_count": 8,
   "id": "72e109e8-8070-43b3-a7f1-5d30260bbba8",
   "metadata": {},
   "outputs": [
    {
     "name": "stdout",
     "output_type": "stream",
     "text": [
      "Name: Ishaq\n",
      "Age: 18\n",
      "City: Lahore\n"
     ]
    }
   ],
   "source": [
    "def print_info(name,age,city):\n",
    "    print(f\"Name: {name}\")\n",
    "    print(f\"Age: {age}\")\n",
    "    print(f\"City: {city}\")\n",
    "print_info(name=\"Ishaq\",age=18,city=\"Lahore\")"
   ]
  },
  {
   "cell_type": "code",
   "execution_count": 10,
   "id": "a4094a7f-763e-408a-bad0-b2f708a21d56",
   "metadata": {},
   "outputs": [
    {
     "name": "stdout",
     "output_type": "stream",
     "text": [
      "89\n"
     ]
    }
   ],
   "source": [
    "def find_max(*num):\n",
    "    value=max(num)\n",
    "    return value\n",
    "maximun_value=find_max(34,89,76,56)\n",
    "print(maximun_value)"
   ]
  },
  {
   "cell_type": "code",
   "execution_count": 12,
   "id": "016656da-6e29-413c-864e-67dbd4e8ebaf",
   "metadata": {},
   "outputs": [
    {
     "name": "stdout",
     "output_type": "stream",
     "text": [
      "1307674368000\n"
     ]
    }
   ],
   "source": [
    "def factorial(n):\n",
    "    if n<0:\n",
    "        print(\"Factorial not defined for negative number.\")\n",
    "    elif n==0 or n==1:\n",
    "        return 1\n",
    "    else:\n",
    "        return n*factorial(n-1)\n",
    "result=factorial(15)\n",
    "print(result)"
   ]
  },
  {
   "cell_type": "code",
   "execution_count": 14,
   "id": "637086e7-be63-4597-818f-b25e92de4f3d",
   "metadata": {},
   "outputs": [
    {
     "name": "stdout",
     "output_type": "stream",
     "text": [
      "[8, 27, 125, 343, 1331]\n"
     ]
    }
   ],
   "source": [
    "def apply_function(func, numbers):\n",
    "    list=[]\n",
    "    for num in numbers:\n",
    "        data=func(num)\n",
    "        list.append(data)\n",
    "    return list\n",
    "def cube(i):\n",
    "    return i**3\n",
    "numbers=[2,3,5,7,11]\n",
    "numbers_cubes=apply_function(cube, numbers)\n",
    "print(numbers_cubes)"
   ]
  },
  {
   "cell_type": "code",
   "execution_count": 16,
   "id": "f8073a31-bb9f-4166-bf76-6da3f0dcb6a5",
   "metadata": {},
   "outputs": [
    {
     "name": "stdout",
     "output_type": "stream",
     "text": [
      "49\n"
     ]
    }
   ],
   "source": [
    "square = lambda x: x ** 2\n",
    "result=square(7)\n",
    "print(result)"
   ]
  },
  {
   "cell_type": "code",
   "execution_count": 18,
   "id": "76bb49a5-ec76-4627-ab9d-417d31c49dd3",
   "metadata": {},
   "outputs": [
    {
     "name": "stdout",
     "output_type": "stream",
     "text": [
      "[1, 16, 49, 100]\n"
     ]
    }
   ],
   "source": [
    "def apply_operation(func, numbers):\n",
    "    list=[]\n",
    "    for num in numbers:\n",
    "        data=func(num)\n",
    "        list.append(data)\n",
    "    return list\n",
    "def square(i):\n",
    "    return i**2\n",
    "numbers=[1,4,7,10]\n",
    "numbers_squares=apply_operation(square,numbers)\n",
    "print(numbers_squares)"
   ]
  },
  {
   "cell_type": "code",
   "execution_count": 22,
   "id": "6d8ccad9-3988-4c34-b89d-a18af34e2f60",
   "metadata": {},
   "outputs": [
    {
     "name": "stdout",
     "output_type": "stream",
     "text": [
      "Execution_time: 0.00000 seconds\n",
      "Result: 49995000\n"
     ]
    }
   ],
   "source": [
    "import time\n",
    "def measure_execution_time(func):\n",
    "    def wrapper(*args,**kwargs):\n",
    "        start_time=time.time()\n",
    "        result=func(*args,**kwargs)\n",
    "        end_time=time.time()\n",
    "        execution_time=end_time-start_time\n",
    "        print(f\"Execution_time: {execution_time:.5f} seconds\")\n",
    "        return result\n",
    "    return wrapper\n",
    "@measure_execution_time\n",
    "def my_function(n):\n",
    "    total=0\n",
    "    for i in range(n):\n",
    "        total+=i\n",
    "    return total\n",
    "result=my_function(10000)\n",
    "print(\"Result:\",result)"
   ]
  },
  {
   "cell_type": "code",
   "execution_count": null,
   "id": "715c2b50-170b-4992-af2d-19b946c32896",
   "metadata": {},
   "outputs": [],
   "source": []
  }
 ],
 "metadata": {
  "kernelspec": {
   "display_name": "Python 3 (ipykernel)",
   "language": "python",
   "name": "python3"
  },
  "language_info": {
   "codemirror_mode": {
    "name": "ipython",
    "version": 3
   },
   "file_extension": ".py",
   "mimetype": "text/x-python",
   "name": "python",
   "nbconvert_exporter": "python",
   "pygments_lexer": "ipython3",
   "version": "3.12.4"
  }
 },
 "nbformat": 4,
 "nbformat_minor": 5
}
